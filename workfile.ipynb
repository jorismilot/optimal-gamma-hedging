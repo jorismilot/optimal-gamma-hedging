{
 "cells": [
  {
   "cell_type": "code",
   "execution_count": 2,
   "id": "d1183e6e",
   "metadata": {},
   "outputs": [],
   "source": [
    "import pandas as pd\n",
    "import os\n",
    "import numpy as np\n",
    "\n",
    "for coin in ['btc', 'eth']:\n",
    "    df = pd.read_csv(os.path.join('/Users/joris/Documents/Master QF/Thesis/optimal-gamma-hedging/Data/calibration_data', f'{coin}_0dte_data.csv'))\n",
    "    df_exp = df[df['timestamp'] == df['expiration']]\n",
    "    \n",
    "    # Write them in temporary files\n",
    "    temp_file_path = os.path.join('/Users/joris/Documents/Master QF/Thesis/optimal-gamma-hedging/temp', f'{coin}_0dte_data_exp.csv')\n",
    "    df_exp.to_csv(temp_file_path, index=False)\n"
   ]
  }
 ],
 "metadata": {
  "kernelspec": {
   "display_name": "venv",
   "language": "python",
   "name": "python3"
  },
  "language_info": {
   "codemirror_mode": {
    "name": "ipython",
    "version": 3
   },
   "file_extension": ".py",
   "mimetype": "text/x-python",
   "name": "python",
   "nbconvert_exporter": "python",
   "pygments_lexer": "ipython3",
   "version": "3.13.3"
  }
 },
 "nbformat": 4,
 "nbformat_minor": 5
}
